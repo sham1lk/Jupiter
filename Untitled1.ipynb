{
 "cells": [
  {
   "cell_type": "code",
   "execution_count": 16,
   "metadata": {},
   "outputs": [],
   "source": [
    "import pandas as pd\n",
    "import numpy as np\n",
    "import math \n",
    "import matplotlib.pyplot as plt\n",
    "import seaborn as sns\n",
    "import pandas as pd\n",
    "import matplotlib.pyplot as plt\n",
    "import seaborn as sns\n",
    "import numpy as np\n",
    "from scipy.stats import norm\n",
    "from sklearn.preprocessing import StandardScaler\n",
    "from scipy import stats\n",
    "from sklearn import preprocessing\n",
    "from sklearn.model_selection import train_test_split"
   ]
  },
  {
   "cell_type": "code",
   "execution_count": 17,
   "metadata": {},
   "outputs": [],
   "source": [
    "hour = pd.read_csv(\"hour.csv\")\n",
    "day = pd.read_csv('day.csv')\n",
    "\n",
    "hour = hour.drop(columns=['dteday','instant','yr','holiday','weekday','weathersit','casual','registered','workingday'])\n"
   ]
  },
  {
   "cell_type": "code",
   "execution_count": 18,
   "metadata": {},
   "outputs": [],
   "source": [
    "# Normalizing the data\n",
    "\n",
    "x=hour.drop(['cnt'],axis=1)\n",
    "y=hour['cnt']\n",
    "\n",
    "x_train, x_test, y_train, y_test = train_test_split(x, y, test_size = 0.01)"
   ]
  },
  {
   "cell_type": "code",
   "execution_count": 19,
   "metadata": {},
   "outputs": [],
   "source": [
    "x_train = preprocessing.normalize(x_train)\n",
    "x_test = preprocessing.normalize(x_test)"
   ]
  },
  {
   "cell_type": "code",
   "execution_count": 21,
   "metadata": {},
   "outputs": [
    {
     "name": "stdout",
     "output_type": "stream",
     "text": [
      "       Actual   Predicted\n",
      "3738      200  303.589135\n",
      "2986      374  252.746723\n",
      "17198     103  133.100413\n",
      "11083      23  -80.909717\n",
      "14156      92   12.577029\n",
      "...       ...         ...\n",
      "6569      302  188.127868\n",
      "1138        1  153.764741\n",
      "9833      212  204.832668\n",
      "6432      266  278.627750\n",
      "4752      149  260.713176\n",
      "\n",
      "[174 rows x 2 columns]\n",
      "Mean Squared Error: 18793.640108426724\n",
      "R score: 0.2104045696451825\n",
      "Mean Absolute Error: 106.13371950737982\n"
     ]
    }
   ],
   "source": [
    "from sklearn.linear_model import LinearRegression\n",
    "from sklearn.metrics import mean_squared_error\n",
    "from sklearn.metrics import mean_absolute_error\n",
    "from sklearn.metrics import r2_score\n",
    "\n",
    "linearRegressor = LinearRegression()\n",
    "linearRegressor.fit(x_train, y_train)\n",
    "y_predicted = linearRegressor.predict(x_test)\n",
    "df = pd.DataFrame({'Actual': y_test, 'Predicted': y_predicted})\n",
    "print(df)\n",
    "\n",
    "mse = mean_squared_error(y_test, y_predicted)\n",
    "r = r2_score(y_test, y_predicted)\n",
    "mae = mean_absolute_error(y_test,y_predicted)\n",
    "\n",
    "print(\"Mean Squared Error:\",mse)\n",
    "print(\"R score:\",r)\n",
    "print(\"Mean Absolute Error:\",mae)"
   ]
  },
  {
   "cell_type": "code",
   "execution_count": 22,
   "metadata": {},
   "outputs": [
    {
     "name": "stdout",
     "output_type": "stream",
     "text": [
      "[  323.13625101   141.86038107   407.77109386  1260.73929531\n",
      "   531.10596647 -1595.46312666  -302.82614387]\n"
     ]
    }
   ],
   "source": [
    "print(linearRegressor.coef_)"
   ]
  },
  {
   "cell_type": "code",
   "execution_count": 23,
   "metadata": {},
   "outputs": [
    {
     "name": "stdout",
     "output_type": "stream",
     "text": [
      "Mean Squared Error: 11344.291932082995\n",
      "R score: 0.5233812599099723\n",
      "Mean Absolute Error: 71.62362234689533\n"
     ]
    }
   ],
   "source": [
    "# Random Forest\n",
    "from sklearn.ensemble import RandomForestRegressor\n",
    "\n",
    "rf = RandomForestRegressor(random_state=0, n_estimators=300)\n",
    "rf.fit(x_train,y_train);\n",
    "y_predicted_r = rf.predict(x_test)\n",
    "\n",
    "mse = mean_squared_error(y_test, y_predicted_r)\n",
    "r = r2_score(y_test, y_predicted_r)\n",
    "mae = mean_absolute_error(y_test,y_predicted_r)\n",
    "\n",
    "print(\"Mean Squared Error:\",mse)\n",
    "print(\"R score:\",r)\n",
    "print(\"Mean Absolute Error:\",mae)"
   ]
  },
  {
   "cell_type": "code",
   "execution_count": 24,
   "metadata": {},
   "outputs": [
    {
     "name": "stdout",
     "output_type": "stream",
     "text": [
      "       Actual   Predicted\n",
      "3738      200  348.102222\n",
      "2986      374  369.956667\n",
      "17198     103  101.166667\n",
      "11083      23   36.086667\n",
      "14156      92   43.736667\n",
      "...       ...         ...\n",
      "6569      302  204.596667\n",
      "1138        1   77.995556\n",
      "9833      212  149.566667\n",
      "6432      266  316.352222\n",
      "4752      149  236.086667\n",
      "\n",
      "[174 rows x 2 columns]\n"
     ]
    }
   ],
   "source": [
    "df = pd.DataFrame({'Actual': y_test, 'Predicted': y_predicted_r})\n",
    "print(df)"
   ]
  },
  {
   "cell_type": "code",
   "execution_count": 14,
   "metadata": {},
   "outputs": [],
   "source": [
    "x_test1 = pd.read_csv(\"test.csv\")\n",
    "x_test = preprocessing.normalize(x_test1)\n",
    "y_predicted_r = rf.predict(x_test)\n"
   ]
  },
  {
   "cell_type": "code",
   "execution_count": 15,
   "metadata": {},
   "outputs": [],
   "source": [
    "df2=pd.DataFrame(x_test1, columns=['season','mnth','hr','temp','atemp','hum','windspeed'])\n",
    "df1=pd.DataFrame(y_predicted_r, columns=['cnt'])\n",
    "df1.to_csv('out.csv', index = False)"
   ]
  },
  {
   "cell_type": "code",
   "execution_count": null,
   "metadata": {},
   "outputs": [],
   "source": []
  }
 ],
 "metadata": {
  "kernelspec": {
   "display_name": "Python 3",
   "language": "python",
   "name": "python3"
  },
  "language_info": {
   "codemirror_mode": {
    "name": "ipython",
    "version": 3
   },
   "file_extension": ".py",
   "mimetype": "text/x-python",
   "name": "python",
   "nbconvert_exporter": "python",
   "pygments_lexer": "ipython3",
   "version": "3.7.6"
  }
 },
 "nbformat": 4,
 "nbformat_minor": 4
}
